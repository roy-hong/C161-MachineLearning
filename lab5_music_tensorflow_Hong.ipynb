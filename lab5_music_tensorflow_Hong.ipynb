{
 "cells": [
  {
   "cell_type": "markdown",
   "metadata": {},
   "source": [
    "# Lab:  Neural Networks for Music Classification\n",
    "\n",
    "Due June 7 at 11:59pm.  This lab may be done alone or in groups up to four.  Everyone should submit their own lab, but indicate on your submission if you worked with others.\n",
    "\n",
    "In addition to the concepts in the MNIST neural network demo (posted in the Demo section of CCLE), in this lab, you will learn to:\n",
    "\n",
    "* Load a file from a URL\n",
    "* Extract simple features from audio samples for machine learning tasks such as speech recognition and classification\n",
    "* Build a simple neural network for music classification using these features\n",
    "* Use a callback to store the loss and accuracy history in the training process\n",
    "* Optimize the learning rate of the neural network\n",
    "\n",
    "To illustrate the basic concepts, we will look at a relatively simple music classification problem.  Given a sample of music, we want to determine which instrument (e.g. trumpet, violin, piano) is playing.  This dataset was generously supplied by [Prof. Juan Bello](http://steinhardt.nyu.edu/faculty/Juan_Pablo_Bello) at NYU Stenihardt  and his former PhD student Eric Humphrey (now at Spotify).  They have a complete website dedicated to deep learning methods in music informatics:\n",
    "\n",
    "http://marl.smusic.nyu.edu/wordpress/projects/feature-learning-deep-architectures/deep-learning-python-tutorial/\n",
    "\n"
   ]
  },
  {
   "cell_type": "markdown",
   "metadata": {},
   "source": [
    "## Loading Tensorflow\n",
    "\n",
    "Before starting this lab, you will need to install [Tensorflow](https://www.tensorflow.org/install/).  If you are using [Google colaboratory](https://colab.research.google.com), Tensorflow is already installed.  Run the following command to ensure Tensorflow is installed."
   ]
  },
  {
   "cell_type": "code",
   "execution_count": 1,
   "metadata": {},
   "outputs": [],
   "source": [
    "import tensorflow as tf"
   ]
  },
  {
   "cell_type": "markdown",
   "metadata": {},
   "source": [
    "Then, load the other packages."
   ]
  },
  {
   "cell_type": "code",
   "execution_count": 2,
   "metadata": {},
   "outputs": [],
   "source": [
    "import numpy as np\n",
    "import matplotlib\n",
    "import matplotlib.pyplot as plt\n",
    "%matplotlib inline"
   ]
  },
  {
   "cell_type": "markdown",
   "metadata": {},
   "source": [
    "## Audio Feature Extraction with Librosa\n",
    "\n",
    "The key to audio classification is to extract the correct features. In addition to `keras`, we will need the `librosa` package.  The `librosa` package in python has a rich set of methods extracting the features of audio samples commonly used in machine learning tasks such as speech recognition and sound classification. \n",
    "\n",
    "Installation instructions and complete documentation for the package are given on the [librosa main page](https://librosa.github.io/librosa/).  On most systems, you should be able to simply use:\n",
    "\n",
    "    pip install -u librosa\n",
    "    \n",
    "After you have installed the package, try to import it."
   ]
  },
  {
   "cell_type": "code",
   "execution_count": 3,
   "metadata": {},
   "outputs": [],
   "source": [
    "import librosa\n",
    "import librosa.display\n",
    "import librosa.feature"
   ]
  },
  {
   "cell_type": "markdown",
   "metadata": {},
   "source": [
    "In this lab, we will use a set of music samples from the website:\n",
    "\n",
    "http://theremin.music.uiowa.edu\n",
    "\n",
    "This website has a great set of samples for audio processing.  Look on the web for how to use the `requests.get` and `file.write` commands to load the file at the URL provided into your working directory.\n",
    "\n",
    "You can play the audio sample by copying the file to your local machine and playing it on any media player.  If you listen to it you will hear a soprano saxaphone (with vibrato) playing four notes (C, C#, D, Eb)."
   ]
  },
  {
   "cell_type": "code",
   "execution_count": 4,
   "metadata": {},
   "outputs": [],
   "source": [
    "import requests\n",
    "fn = \"SopSax.Vib.pp.C6Eb6.aiff\"\n",
    "url = \"http://theremin.music.uiowa.edu/sound files/MIS/Woodwinds/sopranosaxophone/\"+fn\n",
    "\n",
    "# TODO:  Load the file from url and save it in a file under the name fn\n",
    "r = requests.get(url)\n",
    "with open(fn, \"wb\") as file:\n",
    "    file.write(r.content)"
   ]
  },
  {
   "cell_type": "markdown",
   "metadata": {},
   "source": [
    "Next, use `librosa` command `librosa.load` to read the audio file with filename `fn` and get the samples `y` and sample rate `sr`."
   ]
  },
  {
   "cell_type": "code",
   "execution_count": 5,
   "metadata": {},
   "outputs": [],
   "source": [
    "# TODO\n",
    "y, sr = librosa.load(fn)"
   ]
  },
  {
   "cell_type": "markdown",
   "metadata": {},
   "source": [
    "Extracting features from audio files is an entire subject on its own right.  A commonly used set of features are called the Mel Frequency Cepstral Coefficients (MFCCs).  These are derived from the so-called mel spectrogram which is something like a regular spectrogram, but the power and frequency are represented in log scale, which more naturally aligns with human perceptual processing.  You can run the code below to display the mel spectrogram from the audio sample.\n",
    "\n",
    "You can easily see the four notes played in the audio track.  You also see the 'harmonics' of each notes, which are other tones at integer multiples of the fundamental frequency of each note."
   ]
  },
  {
   "cell_type": "code",
   "execution_count": 6,
   "metadata": {},
   "outputs": [
    {
     "data": {
      "image/png": "[encoded data removed]",
      "text/plain": [
       "<Figure size 432x288 with 2 Axes>"
      ]
     },
     "metadata": {
      "needs_background": "light"
     },
     "output_type": "display_data"
    }
   ],
   "source": [
    "S = librosa.feature.melspectrogram(y=y, sr=sr, n_mels=128, fmax=8000)\n",
    "librosa.display.specshow(librosa.amplitude_to_db(S),\n",
    "                         y_axis='mel', fmax=8000, x_axis='time')\n",
    "plt.colorbar(format='%+2.0f dB')\n",
    "plt.title('Mel spectrogram')\n",
    "plt.tight_layout()"
   ]
  },
  {
   "cell_type": "markdown",
   "metadata": {},
   "source": [
    "## Downloading the Data\n",
    "\n",
    "Using the MFCC features described above, Eric Humphrey and Juan Bellow have created a complete data set that can used for instrument classification.  Essentially, they collected a number of data files from the website above.  For each audio file, the segmented the track into notes and then extracted 120 MFCCs for each note.  The goal is to recognize the instrument from the 120 MFCCs.  The process of feature extraction is quite involved.  So, we will just use their processed data provided at:\n",
    "\n",
    "https://github.com/marl/dl4mir-tutorial/blob/master/README.md\n",
    "\n",
    "Note the password.  Load the four files into some directory, say  `instrument_dataset`.  Then, load them with the commands."
   ]
  },
  {
   "cell_type": "code",
   "execution_count": 7,
   "metadata": {},
   "outputs": [],
   "source": [
    "data_dir = 'instrument_dataset/'\n",
    "Xtr = np.load(data_dir+'uiowa_train_data.npy')\n",
    "ytr = np.load(data_dir+'uiowa_train_labels.npy')\n",
    "Xts = np.load(data_dir+'uiowa_test_data.npy')\n",
    "yts = np.load(data_dir+'uiowa_test_labels.npy')"
   ]
  },
  {
   "cell_type": "markdown",
   "metadata": {},
   "source": [
    "Looking at the data files:\n",
    "* What are the number of training and test samples?\n",
    "* What is the number of features for each sample?\n",
    "* How many classes (i.e. instruments) are there per class?\n"
   ]
  },
  {
   "cell_type": "code",
   "execution_count": 8,
   "metadata": {},
   "outputs": [
    {
     "name": "stdout",
     "output_type": "stream",
     "text": [
      "(66247, 120)\n",
      "(66247,)\n",
      "(14904, 120)\n",
      "(14904,)\n",
      "[0 1 2 3 4 5 6 7 8 9]\n",
      "[0 1 2 3 4 5 6 7 8 9]\n",
      "Number of Instruments for class 0 in training\n",
      "6737\n",
      "Number of Instruments for class 1 in training\n",
      "2189\n",
      "Number of Instruments for class 2 in training\n",
      "4167\n",
      "Number of Instruments for class 3 in training\n",
      "8930\n",
      "Number of Instruments for class 4 in training\n",
      "4185\n",
      "Number of Instruments for class 5 in training\n",
      "8885\n",
      "Number of Instruments for class 6 in training\n",
      "12250\n",
      "Number of Instruments for class 7 in training\n",
      "2505\n",
      "Number of Instruments for class 8 in training\n",
      "2056\n",
      "Number of Instruments for class 9 in training\n",
      "14343\n",
      "Number of Instruments for class 0 in testing\n",
      "1469\n",
      "Number of Instruments for class 1 in testing\n",
      "419\n",
      "Number of Instruments for class 2 in testing\n",
      "871\n",
      "Number of Instruments for class 3 in testing\n",
      "1833\n",
      "Number of Instruments for class 4 in testing\n",
      "932\n",
      "Number of Instruments for class 5 in testing\n",
      "2469\n",
      "Number of Instruments for class 6 in testing\n",
      "2449\n",
      "Number of Instruments for class 7 in testing\n",
      "638\n",
      "Number of Instruments for class 8 in testing\n",
      "557\n",
      "Number of Instruments for class 9 in testing\n",
      "3267\n"
     ]
    }
   ],
   "source": [
    "# TODO\n",
    "print(Xtr.shape) # Training : 66247, 120 features each sample\n",
    "print(ytr.shape) \n",
    "\n",
    "print(Xts.shape) # Testing : 14904\n",
    "print(yts.shape)\n",
    "\n",
    "print(np.unique(ytr)) # 10 classes \n",
    "print(np.unique(yts)) # Number of classes are same for training/testing.\n",
    "\n",
    "\n",
    "for i in range(10):\n",
    "    print(\"Number of Instruments for class \"+str(i)+\" in training\")\n",
    "    print(sum(ytr == i))\n",
    "for i in range(10):\n",
    "    print(\"Number of Instruments for class \"+str(i)+\" in testing\")\n",
    "    print(sum(yts == i))\n"
   ]
  },
  {
   "cell_type": "markdown",
   "metadata": {},
   "source": [
    "Before continuing, you must scale the training and test data, `Xtr` and `Xts`.  Compute the mean and std deviation of each feature in `Xtr` and create a new training data set, `Xtr_scale`, by subtracting the mean and dividing by the std deviation.  Also compute a scaled test data set, `Xts_scale` using the mean and std deviation learned from the training data set."
   ]
  },
  {
   "cell_type": "code",
   "execution_count": 9,
   "metadata": {},
   "outputs": [
    {
     "name": "stdout",
     "output_type": "stream",
     "text": [
      "-1.8859998891429954e-16\n",
      "0.9999999999999998\n",
      "-0.060611038815661974\n",
      "0.915019690809686\n"
     ]
    }
   ],
   "source": [
    "# TODO Scale the training and test matrices\n",
    "# find means and stds of Xtr\n",
    "Xtr_mean = np.mean(Xtr, axis = 0)\n",
    "Xtr_std = np.std(Xtr, axis = 0)\n",
    "# scale Xtr and Xts\n",
    "Xtr_scale = (Xtr - Xtr_mean) / Xtr_std\n",
    "Xts_scale = (Xts - Xtr_mean) / Xtr_std\n",
    "# ensuring scaling worked\n",
    "print(Xtr_scale.mean())\n",
    "print(Xtr_scale.std())\n",
    "print(Xts_scale.mean())\n",
    "print(Xts_scale.std())"
   ]
  },
  {
   "cell_type": "markdown",
   "metadata": {
    "collapsed": true
   },
   "source": [
    "## Building a Neural Network Classifier\n",
    "\n",
    "Following the example in [MNIST neural network demo](./mnist_neural.ipynb), clear the keras session.  Then, create a neural network `model` with:\n",
    "* `nh=256` hidden units\n",
    "* `sigmoid` activation\n",
    "* select the input and output shapes correctly\n",
    "* print the model summary"
   ]
  },
  {
   "cell_type": "code",
   "execution_count": 10,
   "metadata": {},
   "outputs": [],
   "source": [
    "from tensorflow.keras.models import Model, Sequential\n",
    "from tensorflow.keras.layers import Dense, Activation\n",
    "import tensorflow.keras.backend as K\n"
   ]
  },
  {
   "cell_type": "code",
   "execution_count": 11,
   "metadata": {},
   "outputs": [],
   "source": [
    "# TODO clear session\n",
    "K.clear_session()"
   ]
  },
  {
   "cell_type": "code",
   "execution_count": 12,
   "metadata": {},
   "outputs": [],
   "source": [
    "# TODO: construct the model\n",
    "nfe = Xtr.shape[1] # dimension of input data = 120 features\n",
    "nh = 256 # number of hidden units\n",
    "nout = 10 # number of outputs = 10 classes\n",
    "model = Sequential()\n",
    "model.add(Dense(nh, input_shape = (nfe, ), activation = \"sigmoid\", name = \"hidden\"))\n",
    "model.add(Dense(nout, activation = \"softmax\", name = \"output\"))\n"
   ]
  },
  {
   "cell_type": "code",
   "execution_count": 13,
   "metadata": {},
   "outputs": [
    {
     "name": "stdout",
     "output_type": "stream",
     "text": [
      "Model: \"sequential\"\n",
      "_________________________________________________________________\n",
      "Layer (type)                 Output Shape              Param #   \n",
      "=================================================================\n",
      "hidden (Dense)               (None, 256)               30976     \n",
      "_________________________________________________________________\n",
      "output (Dense)               (None, 10)                2570      \n",
      "=================================================================\n",
      "Total params: 33,546\n",
      "Trainable params: 33,546\n",
      "Non-trainable params: 0\n",
      "_________________________________________________________________\n"
     ]
    }
   ],
   "source": [
    "# TODO:  Print the model summary\n",
    "model.summary()"
   ]
  },
  {
   "cell_type": "markdown",
   "metadata": {},
   "source": [
    "Create an optimizer and compile the model.  Select the appropriate loss function and metrics.  For the optimizer, use the Adam optimizer with a learning rate of 0.001"
   ]
  },
  {
   "cell_type": "code",
   "execution_count": 14,
   "metadata": {
    "scrolled": true
   },
   "outputs": [],
   "source": [
    "# TODO\n",
    "from tensorflow.keras import optimizers\n",
    "\n",
    "opt = optimizers.Adam(lr = 0.001) \n",
    "model.compile(optimizer = opt, loss = \"sparse_categorical_crossentropy\",\n",
    "              metrics = [\"accuracy\"]) "
   ]
  },
  {
   "cell_type": "markdown",
   "metadata": {},
   "source": [
    "Fit the model for 10 epochs using the scaled data for both the training and validation.  Use the `validation_data` option to pass the test data.  Also, pass the callback class create above.  Use a batch size of 100.  Your final accuracy should be >99%."
   ]
  },
  {
   "cell_type": "code",
   "execution_count": 15,
   "metadata": {
    "scrolled": true
   },
   "outputs": [
    {
     "name": "stdout",
     "output_type": "stream",
     "text": [
      "Train on 66247 samples, validate on 14904 samples\n",
      "Epoch 1/10\n",
      "66247/66247 [==============================] - 2s 34us/sample - loss: 0.3535 - accuracy: 0.9031 - val_loss: 0.1837 - val_accuracy: 0.9435\n",
      "Epoch 2/10\n",
      "66247/66247 [==============================] - 2s 29us/sample - loss: 0.0989 - accuracy: 0.9759 - val_loss: 0.0866 - val_accuracy: 0.9787\n",
      "Epoch 3/10\n",
      "66247/66247 [==============================] - 2s 28us/sample - loss: 0.0581 - accuracy: 0.9859 - val_loss: 0.0631 - val_accuracy: 0.9844\n",
      "Epoch 4/10\n",
      "66247/66247 [==============================] - 2s 31us/sample - loss: 0.0408 - accuracy: 0.9897 - val_loss: 0.0477 - val_accuracy: 0.9887\n",
      "Epoch 5/10\n",
      "66247/66247 [==============================] - 2s 32us/sample - loss: 0.0312 - accuracy: 0.9921 - val_loss: 0.0374 - val_accuracy: 0.9904\n",
      "Epoch 6/10\n",
      "66247/66247 [==============================] - 2s 30us/sample - loss: 0.0246 - accuracy: 0.9936 - val_loss: 0.0338 - val_accuracy: 0.9905\n",
      "Epoch 7/10\n",
      "66247/66247 [==============================] - 2s 28us/sample - loss: 0.0198 - accuracy: 0.9949 - val_loss: 0.0301 - val_accuracy: 0.9915\n",
      "Epoch 8/10\n",
      "66247/66247 [==============================] - 2s 26us/sample - loss: 0.0166 - accuracy: 0.9956 - val_loss: 0.0285 - val_accuracy: 0.9909\n",
      "Epoch 9/10\n",
      "66247/66247 [==============================] - 2s 27us/sample - loss: 0.0144 - accuracy: 0.9962 - val_loss: 0.0271 - val_accuracy: 0.9908\n",
      "Epoch 10/10\n",
      "66247/66247 [==============================] - 2s 30us/sample - loss: 0.0123 - accuracy: 0.9970 - val_loss: 0.0229 - val_accuracy: 0.9923\n"
     ]
    },
    {
     "data": {
      "text/plain": [
       "<tensorflow.python.keras.callbacks.History at 0x1c48f366d8>"
      ]
     },
     "execution_count": 15,
     "metadata": {},
     "output_type": "execute_result"
    }
   ],
   "source": [
    "# TODO\n",
    "hist = model.fit(Xtr_scale, ytr, epochs = 10, batch_size = 100, validation_data = (Xts_scale, yts))\n",
    "hist # Final Accuracy : 0.9923"
   ]
  },
  {
   "cell_type": "markdown",
   "metadata": {},
   "source": [
    "Plot the validation accuracy saved in `hist.history` dictionary. This gives one accuracy value per epoch.  You should see that the validation accuracy saturates at a little higher than 99%.  After that it \"bounces around\" due to the noise in the stochastic gradient descent."
   ]
  },
  {
   "cell_type": "code",
   "execution_count": 16,
   "metadata": {},
   "outputs": [
    {
     "data": {
      "image/png": "[encoded data removed]",
      "text/plain": [
       "<Figure size 432x288 with 1 Axes>"
      ]
     },
     "metadata": {
      "needs_background": "light"
     },
     "output_type": "display_data"
    }
   ],
   "source": [
    "# TODO\n",
    "plt.plot(hist.history['accuracy'])\n",
    "plt.plot(hist.history['val_accuracy'])\n",
    "plt.title(\"Neural Network Model Accuracy\")\n",
    "\n",
    "plt.xlabel(\"Epoch number\")\n",
    "plt.ylabel(\"Accuracy\")\n",
    "plt.legend([\"Training data\", \"Testing data\"], loc = \"lower right\")\n",
    "plt.show()"
   ]
  },
  {
   "cell_type": "markdown",
   "metadata": {},
   "source": [
    "Plot the loss values saved in the `hist.history` dictionary.  You should see that the loss is steadily decreasing.  Use the `semilogy` plot."
   ]
  },
  {
   "cell_type": "code",
   "execution_count": 17,
   "metadata": {},
   "outputs": [
    {
     "data": {
      "image/png": "[encoded data removed]",
      "text/plain": [
       "<Figure size 432x288 with 1 Axes>"
      ]
     },
     "metadata": {
      "needs_background": "light"
     },
     "output_type": "display_data"
    }
   ],
   "source": [
    "# TODO\n",
    "plt.semilogy(hist.history[\"loss\"])\n",
    "plt.semilogy(hist.history[\"val_loss\"])\n",
    "\n",
    "plt.title(\"Neural Networks Loss for Training/Testing\")\n",
    "plt.xlabel(\"Epoch number\")\n",
    "plt.ylabel(\"Loss in log scale\")\n",
    "plt.legend(['train', 'test'], loc = \"upper right\")\n",
    "plt.show()"
   ]
  },
  {
   "cell_type": "markdown",
   "metadata": {},
   "source": [
    "## Optimizing the Learning Rate\n",
    "\n",
    "One challenge in training neural networks is the selection of the learning rate.  Rerun the above code, trying four learning rates as shown in the vector `rates`.  For each learning rate:\n",
    "* clear the session\n",
    "* construct the network\n",
    "* select the optimizer.  Use the Adam optimizer with the appropriate learrning rate.\n",
    "* train the model for 20 epochs\n",
    "* save the accuracy and losses"
   ]
  },
  {
   "cell_type": "code",
   "execution_count": 18,
   "metadata": {},
   "outputs": [
    {
     "name": "stdout",
     "output_type": "stream",
     "text": [
      "Train on 66247 samples, validate on 14904 samples\n",
      "Epoch 1/20\n",
      "66247/66247 [==============================] - 2s 37us/sample - loss: 0.0293 - accuracy: 0.9899 - val_loss: 0.0238 - val_accuracy: 0.9904\n",
      "Epoch 2/20\n",
      "66247/66247 [==============================] - 2s 31us/sample - loss: 0.0216 - accuracy: 0.9929 - val_loss: 0.0303 - val_accuracy: 0.9895\n",
      "Epoch 3/20\n",
      "66247/66247 [==============================] - 2s 32us/sample - loss: 0.0182 - accuracy: 0.9939 - val_loss: 0.0676 - val_accuracy: 0.9803\n",
      "Epoch 4/20\n",
      "66247/66247 [==============================] - 2s 33us/sample - loss: 0.0179 - accuracy: 0.9947 - val_loss: 0.0485 - val_accuracy: 0.9846\n",
      "Epoch 5/20\n",
      "66247/66247 [==============================] - 2s 30us/sample - loss: 0.0149 - accuracy: 0.9951 - val_loss: 0.0552 - val_accuracy: 0.9845\n",
      "Epoch 6/20\n",
      "66247/66247 [==============================] - 2s 30us/sample - loss: 0.0128 - accuracy: 0.9961 - val_loss: 0.0306 - val_accuracy: 0.9895\n",
      "Epoch 7/20\n",
      "66247/66247 [==============================] - 2s 28us/sample - loss: 0.0115 - accuracy: 0.9964 - val_loss: 0.0800 - val_accuracy: 0.9822\n",
      "Epoch 8/20\n",
      "66247/66247 [==============================] - 2s 28us/sample - loss: 0.0122 - accuracy: 0.9958 - val_loss: 0.0525 - val_accuracy: 0.9850\n",
      "Epoch 9/20\n",
      "66247/66247 [==============================] - 2s 30us/sample - loss: 0.0159 - accuracy: 0.9951 - val_loss: 0.0557 - val_accuracy: 0.9834\n",
      "Epoch 10/20\n",
      "66247/66247 [==============================] - 2s 29us/sample - loss: 0.0112 - accuracy: 0.9965 - val_loss: 0.1283 - val_accuracy: 0.9671\n",
      "Epoch 11/20\n",
      "66247/66247 [==============================] - 2s 27us/sample - loss: 0.0104 - accuracy: 0.9968 - val_loss: 0.0591 - val_accuracy: 0.9883\n",
      "Epoch 12/20\n",
      "66247/66247 [==============================] - 2s 28us/sample - loss: 0.0107 - accuracy: 0.9968 - val_loss: 0.0715 - val_accuracy: 0.9847\n",
      "Epoch 13/20\n",
      "66247/66247 [==============================] - 2s 28us/sample - loss: 0.0112 - accuracy: 0.9968 - val_loss: 0.0931 - val_accuracy: 0.9794\n",
      "Epoch 14/20\n",
      "66247/66247 [==============================] - 2s 27us/sample - loss: 0.0089 - accuracy: 0.9972 - val_loss: 0.0413 - val_accuracy: 0.9909\n",
      "Epoch 15/20\n",
      "66247/66247 [==============================] - 2s 27us/sample - loss: 0.0096 - accuracy: 0.9970 - val_loss: 0.0362 - val_accuracy: 0.9900\n",
      "Epoch 16/20\n",
      "66247/66247 [==============================] - 2s 27us/sample - loss: 0.0090 - accuracy: 0.9973 - val_loss: 0.0507 - val_accuracy: 0.9875\n",
      "Epoch 17/20\n",
      "66247/66247 [==============================] - 2s 28us/sample - loss: 0.0080 - accuracy: 0.9976 - val_loss: 0.0558 - val_accuracy: 0.9873\n",
      "Epoch 18/20\n",
      "66247/66247 [==============================] - 2s 27us/sample - loss: 0.0098 - accuracy: 0.9971 - val_loss: 0.0360 - val_accuracy: 0.9925\n",
      "Epoch 19/20\n",
      "66247/66247 [==============================] - 2s 28us/sample - loss: 0.0088 - accuracy: 0.9974 - val_loss: 0.0410 - val_accuracy: 0.9907\n",
      "Epoch 20/20\n",
      "66247/66247 [==============================] - 2s 33us/sample - loss: 0.0104 - accuracy: 0.9970 - val_loss: 0.0464 - val_accuracy: 0.9895\n",
      "Train on 66247 samples, validate on 14904 samples\n",
      "Epoch 1/20\n",
      "66247/66247 [==============================] - 2s 33us/sample - loss: 0.0014 - accuracy: 0.9995 - val_loss: 0.0294 - val_accuracy: 0.9928\n",
      "Epoch 2/20\n",
      "66247/66247 [==============================] - 2s 27us/sample - loss: 7.7233e-04 - accuracy: 0.9997 - val_loss: 0.0341 - val_accuracy: 0.9917\n",
      "Epoch 3/20\n",
      "66247/66247 [==============================] - 2s 27us/sample - loss: 4.1948e-04 - accuracy: 0.9999 - val_loss: 0.0319 - val_accuracy: 0.9923\n",
      "Epoch 4/20\n",
      "66247/66247 [==============================] - 2s 28us/sample - loss: 3.6777e-04 - accuracy: 0.9999 - val_loss: 0.0337 - val_accuracy: 0.9917\n",
      "Epoch 5/20\n",
      "66247/66247 [==============================] - 2s 29us/sample - loss: 2.9629e-04 - accuracy: 0.9999 - val_loss: 0.0333 - val_accuracy: 0.9921\n",
      "Epoch 6/20\n",
      "66247/66247 [==============================] - 2s 29us/sample - loss: 3.6876e-04 - accuracy: 0.9999 - val_loss: 0.0343 - val_accuracy: 0.9916\n",
      "Epoch 7/20\n",
      "66247/66247 [==============================] - 2s 28us/sample - loss: 2.5252e-04 - accuracy: 0.9999 - val_loss: 0.0370 - val_accuracy: 0.9914\n",
      "Epoch 8/20\n",
      "66247/66247 [==============================] - 2s 29us/sample - loss: 3.7956e-04 - accuracy: 0.9998 - val_loss: 0.0354 - val_accuracy: 0.9918\n",
      "Epoch 9/20\n",
      "66247/66247 [==============================] - 2s 28us/sample - loss: 3.2741e-04 - accuracy: 0.9999 - val_loss: 0.0334 - val_accuracy: 0.9924\n",
      "Epoch 10/20\n",
      "66247/66247 [==============================] - 2s 29us/sample - loss: 2.4393e-04 - accuracy: 0.9999 - val_loss: 0.0367 - val_accuracy: 0.9921\n",
      "Epoch 11/20\n",
      "66247/66247 [==============================] - 2s 31us/sample - loss: 2.1742e-04 - accuracy: 0.9999 - val_loss: 0.0352 - val_accuracy: 0.9920\n",
      "Epoch 12/20\n",
      "66247/66247 [==============================] - 2s 29us/sample - loss: 2.8486e-04 - accuracy: 0.9999 - val_loss: 0.0365 - val_accuracy: 0.9921\n",
      "Epoch 13/20\n",
      "66247/66247 [==============================] - 2s 28us/sample - loss: 2.8124e-04 - accuracy: 0.9999 - val_loss: 0.0386 - val_accuracy: 0.9914\n",
      "Epoch 14/20\n",
      "66247/66247 [==============================] - 2s 28us/sample - loss: 2.2788e-04 - accuracy: 0.9999 - val_loss: 0.0325 - val_accuracy: 0.9928\n",
      "Epoch 15/20\n",
      "66247/66247 [==============================] - 2s 28us/sample - loss: 1.0849e-04 - accuracy: 1.0000 - val_loss: 0.0330 - val_accuracy: 0.9927\n",
      "Epoch 16/20\n",
      "66247/66247 [==============================] - 2s 28us/sample - loss: 1.2012e-04 - accuracy: 1.0000 - val_loss: 0.0344 - val_accuracy: 0.9921\n",
      "Epoch 17/20\n",
      "66247/66247 [==============================] - 2s 27us/sample - loss: 3.1599e-04 - accuracy: 0.9999 - val_loss: 0.0428 - val_accuracy: 0.9912\n",
      "Epoch 18/20\n",
      "66247/66247 [==============================] - 2s 27us/sample - loss: 2.5441e-04 - accuracy: 0.9999 - val_loss: 0.0346 - val_accuracy: 0.9930\n",
      "Epoch 19/20\n",
      "66247/66247 [==============================] - 2s 26us/sample - loss: 1.7676e-04 - accuracy: 0.9999 - val_loss: 0.0304 - val_accuracy: 0.9936\n",
      "Epoch 20/20\n",
      "66247/66247 [==============================] - 2s 27us/sample - loss: 1.3549e-04 - accuracy: 1.0000 - val_loss: 0.0335 - val_accuracy: 0.9935\n",
      "Train on 66247 samples, validate on 14904 samples\n",
      "Epoch 1/20\n",
      "66247/66247 [==============================] - 2s 29us/sample - loss: 7.6330e-05 - accuracy: 1.0000 - val_loss: 0.0333 - val_accuracy: 0.9933\n",
      "Epoch 2/20\n",
      "66247/66247 [==============================] - 2s 26us/sample - loss: 6.6309e-05 - accuracy: 1.0000 - val_loss: 0.0333 - val_accuracy: 0.9934\n",
      "Epoch 3/20\n",
      "66247/66247 [==============================] - 2s 27us/sample - loss: 5.9529e-05 - accuracy: 1.0000 - val_loss: 0.0331 - val_accuracy: 0.9936\n",
      "Epoch 4/20\n",
      "66247/66247 [==============================] - 2s 27us/sample - loss: 5.8714e-05 - accuracy: 1.0000 - val_loss: 0.0333 - val_accuracy: 0.9936\n",
      "Epoch 5/20\n",
      "66247/66247 [==============================] - 2s 26us/sample - loss: 5.4200e-05 - accuracy: 1.0000 - val_loss: 0.0324 - val_accuracy: 0.9936\n",
      "Epoch 6/20\n",
      "66247/66247 [==============================] - 2s 26us/sample - loss: 5.2372e-05 - accuracy: 1.0000 - val_loss: 0.0328 - val_accuracy: 0.9936\n",
      "Epoch 7/20\n",
      "66247/66247 [==============================] - 2s 26us/sample - loss: 5.6854e-05 - accuracy: 1.0000 - val_loss: 0.0322 - val_accuracy: 0.9936\n",
      "Epoch 8/20\n",
      "66247/66247 [==============================] - 2s 26us/sample - loss: 5.2233e-05 - accuracy: 1.0000 - val_loss: 0.0327 - val_accuracy: 0.9936\n",
      "Epoch 9/20\n",
      "66247/66247 [==============================] - 2s 26us/sample - loss: 5.3747e-05 - accuracy: 1.0000 - val_loss: 0.0329 - val_accuracy: 0.9934\n",
      "Epoch 10/20\n",
      "66247/66247 [==============================] - 2s 27us/sample - loss: 5.4029e-05 - accuracy: 1.0000 - val_loss: 0.0324 - val_accuracy: 0.9936\n",
      "Epoch 11/20\n",
      "66247/66247 [==============================] - 3s 38us/sample - loss: 5.0199e-05 - accuracy: 1.0000 - val_loss: 0.0332 - val_accuracy: 0.9935\n",
      "Epoch 12/20\n",
      "66247/66247 [==============================] - 3s 38us/sample - loss: 5.2214e-05 - accuracy: 1.0000 - val_loss: 0.0327 - val_accuracy: 0.9935\n",
      "Epoch 13/20\n",
      "66247/66247 [==============================] - 2s 36us/sample - loss: 5.1079e-05 - accuracy: 1.0000 - val_loss: 0.0325 - val_accuracy: 0.9934\n"
     ]
    },
    {
     "name": "stdout",
     "output_type": "stream",
     "text": [
      "Epoch 14/20\n",
      "66247/66247 [==============================] - 2s 28us/sample - loss: 5.3062e-05 - accuracy: 1.0000 - val_loss: 0.0329 - val_accuracy: 0.9934\n",
      "Epoch 15/20\n",
      "66247/66247 [==============================] - 2s 27us/sample - loss: 4.8071e-05 - accuracy: 1.0000 - val_loss: 0.0315 - val_accuracy: 0.9938\n",
      "Epoch 16/20\n",
      "66247/66247 [==============================] - 2s 27us/sample - loss: 5.0204e-05 - accuracy: 1.0000 - val_loss: 0.0324 - val_accuracy: 0.9935\n",
      "Epoch 17/20\n",
      "66247/66247 [==============================] - 2s 28us/sample - loss: 5.0796e-05 - accuracy: 1.0000 - val_loss: 0.0327 - val_accuracy: 0.9935\n",
      "Epoch 18/20\n",
      "66247/66247 [==============================] - 2s 27us/sample - loss: 4.6499e-05 - accuracy: 1.0000 - val_loss: 0.0327 - val_accuracy: 0.9935\n",
      "Epoch 19/20\n",
      "66247/66247 [==============================] - 2s 27us/sample - loss: 4.7512e-05 - accuracy: 1.0000 - val_loss: 0.0327 - val_accuracy: 0.9935\n",
      "Epoch 20/20\n",
      "66247/66247 [==============================] - 2s 27us/sample - loss: 4.5251e-05 - accuracy: 1.0000 - val_loss: 0.0319 - val_accuracy: 0.9937\n"
     ]
    }
   ],
   "source": [
    "rates = [0.01,0.001,0.0001]\n",
    "batch_size = 100\n",
    "loss_hist = []\n",
    "acc_hist = []\n",
    "\n",
    "# TODO\n",
    "for lr in rates:\n",
    "    K.clear_session()\n",
    "    \n",
    "    opt = optimizers.Adam(lr = lr)\n",
    "    model.compile(optimizer = opt,\n",
    "                  loss = \"sparse_categorical_crossentropy\",\n",
    "                  metrics = [\"accuracy\"])\n",
    "    \n",
    "    hist = model.fit(Xtr_scale, ytr, \n",
    "                     epochs = 20, batch_size = batch_size, \n",
    "                     validation_data = (Xts_scale, yts))\n",
    "    \n",
    "    loss_hist.append(hist.history[\"loss\"])\n",
    "    acc_hist.append(hist.history[\"val_accuracy\"])\n"
   ]
  },
  {
   "cell_type": "markdown",
   "metadata": {},
   "source": [
    "Plot the loss funciton vs. the epoch number for all three learning rates on one graph.  You should see that the lower learning rates are more stable, but converge slower."
   ]
  },
  {
   "cell_type": "code",
   "execution_count": 21,
   "metadata": {},
   "outputs": [
    {
     "data": {
      "image/png": "[encoded data removed]",
      "text/plain": [
       "<Figure size 432x288 with 1 Axes>"
      ]
     },
     "metadata": {
      "needs_background": "light"
     },
     "output_type": "display_data"
    }
   ],
   "source": [
    "# TODO\n",
    "plt.semilogy(loss_hist[0])\n",
    "plt.semilogy(loss_hist[1])\n",
    "plt.semilogy(loss_hist[2])\n",
    "\n",
    "\n",
    "plt.title(\"Loss in Different Learning Rate\")\n",
    "plt.xlabel(\"Epoch number\")\n",
    "plt.ylabel(\"Loss in log scale\")\n",
    "plt.legend(['0.01', '0.001','0.0001'], loc = \"upper right\")\n",
    "plt.show()"
   ]
  },
  {
   "cell_type": "code",
   "execution_count": null,
   "metadata": {},
   "outputs": [],
   "source": []
  },
  {
   "cell_type": "code",
   "execution_count": null,
   "metadata": {},
   "outputs": [],
   "source": []
  }
 ],
 "metadata": {
  "anaconda-cloud": {},
  "kernelspec": {
   "display_name": "Python 3",
   "language": "python",
   "name": "python3"
  },
  "language_info": {
   "codemirror_mode": {
    "name": "ipython",
    "version": 3
   },
   "file_extension": ".py",
   "mimetype": "text/x-python",
   "name": "python",
   "nbconvert_exporter": "python",
   "pygments_lexer": "ipython3",
   "version": "3.7.1"
  }
 },
 "nbformat": 4,
 "nbformat_minor": 1
}
