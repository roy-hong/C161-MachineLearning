{
 "cells": [
  {
   "cell_type": "markdown",
   "metadata": {},
   "source": [
    "# STATS C161 Homework 4 \n",
    "\n",
    "704845912 Seungwoo Hong"
   ]
  },
  {
   "cell_type": "code",
   "execution_count": 1,
   "metadata": {},
   "outputs": [],
   "source": [
    "import matplotlib.pyplot as plt\n",
    "import pandas as pd\n",
    "import numpy as np"
   ]
  },
  {
   "cell_type": "markdown",
   "metadata": {},
   "source": [
    "### 1. LDA. You are given data x = (xi1, xi2) with binary class labels yi = 0, 1."
   ]
  },
  {
   "cell_type": "code",
   "execution_count": 2,
   "metadata": {},
   "outputs": [],
   "source": [
    "data = [[0,0,0],[0.1,2.0,0],[0.2,-2.0,0],[-0.1,0.0,1],[0,3.0,1],[0.1,-3.0,1]]\n",
    "df = pd.DataFrame(data, columns=['x1','x2','y'])\n",
    "#df"
   ]
  },
  {
   "cell_type": "markdown",
   "metadata": {},
   "source": [
    "#### (a)"
   ]
  },
  {
   "cell_type": "code",
   "execution_count": 3,
   "metadata": {},
   "outputs": [
    {
     "data": {
      "text/plain": [
       "<matplotlib.collections.PathCollection at 0x1188d6d68>"
      ]
     },
     "execution_count": 3,
     "metadata": {},
     "output_type": "execute_result"
    },
    {
     "data": {
      "image/png": "[encoded data removed]",
      "text/plain": [
       "<Figure size 432x288 with 1 Axes>"
      ]
     },
     "metadata": {
      "needs_background": "light"
     },
     "output_type": "display_data"
    }
   ],
   "source": [
    "plt.scatter(df['x1'], df['x2'], c = df['y'])"
   ]
  },
  {
   "cell_type": "markdown",
   "metadata": {},
   "source": [
    "#### (b)"
   ]
  },
  {
   "cell_type": "code",
   "execution_count": 11,
   "metadata": {
    "scrolled": true
   },
   "outputs": [
    {
     "name": "stdout",
     "output_type": "stream",
     "text": [
      "mean vector : \n",
      "  x1    0.05\n",
      "x2    0.00\n",
      "dtype: float64\n",
      "Covariance Matrix : \n",
      " [[ 0.011 -0.1  ]\n",
      " [-0.1    5.2  ]]\n",
      "1.7017452060042548\n",
      "[0.70710678 0.70710678]\n"
     ]
    }
   ],
   "source": [
    "from sklearn.preprocessing import StandardScaler\n",
    "\n",
    "print(\"mean vector : \\n \",np.mean(df.iloc[:,0:2], axis=0))\n",
    "print(\"Covariance Matrix : \\n\", np.cov(df.iloc[:,0:2].T))\n",
    "\n",
    "cov_matrix = np.cov(StandardScaler().fit_transform(df.iloc[:,0:2]).T)\n",
    "\n",
    "eig_vals, eig_vecs = np.linalg.eig(cov_matrix)\n",
    "print(eig_vals[0])\n",
    "print(eig_vecs[0]) # First Principal Component"
   ]
  },
  {
   "cell_type": "markdown",
   "metadata": {},
   "source": [
    "#### (c)"
   ]
  },
  {
   "cell_type": "code",
   "execution_count": 43,
   "metadata": {},
   "outputs": [
    {
     "name": "stdout",
     "output_type": "stream",
     "text": [
      "[-0.36927447  1.04864069  0.4284572  -1.10782342  0.64977486 -0.64977486]\n"
     ]
    }
   ],
   "source": [
    "z_pca = StandardScaler().fit_transform(df.iloc[:,0:2]).dot(eig_vecs[0].T)\n",
    "print(z_pca) # two errors"
   ]
  },
  {
   "cell_type": "markdown",
   "metadata": {},
   "source": [
    "#### (d)"
   ]
  },
  {
   "cell_type": "code",
   "execution_count": 45,
   "metadata": {},
   "outputs": [
    {
     "name": "stdout",
     "output_type": "stream",
     "text": [
      "mean vector for label 0 : \n",
      "  x1    0.1\n",
      "x2    0.0\n",
      "dtype: float64\n",
      "Covariance Matrix for label 0 : \n",
      " [[ 0.01 -0.1 ]\n",
      " [-0.1   4.  ]]\n",
      "mean vector for label 1 : \n",
      "  x1    0.0\n",
      "x2    0.0\n",
      "dtype: float64\n",
      "Covariance Matrix for label 1 : \n",
      " [[ 0.01 -0.15]\n",
      " [-0.15  9.  ]]\n"
     ]
    }
   ],
   "source": [
    "print(\"mean vector for label 0 : \\n \",np.mean(df.iloc[0:3,0:2], axis=0))\n",
    "print(\"Covariance Matrix for label 0 : \\n\", np.cov(df.iloc[0:3,0:2].T))\n",
    "\n",
    "\n",
    "print(\"mean vector for label 1 : \\n \",np.mean(df.iloc[3:,0:2], axis=0))\n",
    "print(\"Covariance Matrix for label 1 : \\n\", np.cov(df.iloc[3:,0:2].T))"
   ]
  }
 ],
 "metadata": {
  "kernelspec": {
   "display_name": "Python 3",
   "language": "python",
   "name": "python3"
  },
  "language_info": {
   "codemirror_mode": {
    "name": "ipython",
    "version": 3
   },
   "file_extension": ".py",
   "mimetype": "text/x-python",
   "name": "python",
   "nbconvert_exporter": "python",
   "pygments_lexer": "ipython3",
   "version": "3.7.1"
  }
 },
 "nbformat": 4,
 "nbformat_minor": 2
}
