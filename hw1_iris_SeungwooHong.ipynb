{
 "cells": [
  {
   "cell_type": "markdown",
   "metadata": {},
   "source": [
    "# Lab:  Iris Flower Classification using Decision Theory\n",
    "\n",
    "In this exercise, we will use decision theory on a simple multi-variable classification problem.  In doing the exercise, you will learn to:\n",
    "\n",
    "* Load a pre-installed dataset in the `sklearn` package.\n",
    "* Estimate parameters of a multi-variable Gaussian from data\n",
    "* Make multi-class predictions using linear and quadratic discriminants derived from the Gaussian parameters\n",
    "* Evaluate the accuracy of the predictions on test data\n",
    "\n",
    "For submission:\n",
    "* Complete all sections labeled `#TODO`\n",
    "* Run the notebook and print to PDF.  \n",
    "* Submit the PDF in CCLE.  No other formats accepted.  Do not submit the jupyter notebook.\n",
    "* You may also do the lab in any other language (e.g. R) of your choice.  But only submit a single PDF file.  No source code.\n",
    "\n",
    "We load the following packages."
   ]
  },
  {
   "cell_type": "code",
   "execution_count": 1,
   "metadata": {},
   "outputs": [],
   "source": [
    "import numpy as np\n",
    "import pandas as pd\n",
    "import matplotlib\n",
    "from matplotlib import pyplot as plt\n",
    "import matplotlib.colors as colors\n",
    "from sklearn import linear_model, datasets\n",
    "import seaborn as sns\n",
    "import itertools\n",
    "\n",
    "matplotlib.rcParams.update({'font.size': 16})"
   ]
  },
  {
   "cell_type": "markdown",
   "metadata": {},
   "source": [
    "## Loading and Visualizing the Data\n",
    "\n",
    "In this lab, we will use the classic dataset [Iris flower dataset](https://en.wikipedia.org/wiki/Iris_flower_data_set).  The problem is to estimate the type of iris ('setosa' 'versicolor' 'virginica') from four features of the Iris flower.  Since the data is widely-used in machine learning classes, it is included in the `sklearn` package in python.  You can download the data with following command:"
   ]
  },
  {
   "cell_type": "code",
   "execution_count": 2,
   "metadata": {},
   "outputs": [
    {
     "data": {
      "text/html": [
       "<div>\n",
       "<style scoped>\n",
       "    .dataframe tbody tr th:only-of-type {\n",
       "        vertical-align: middle;\n",
       "    }\n",
       "\n",
       "    .dataframe tbody tr th {\n",
       "        vertical-align: top;\n",
       "    }\n",
       "\n",
       "    .dataframe thead th {\n",
       "        text-align: right;\n",
       "    }\n",
       "</style>\n",
       "<table border=\"1\" class=\"dataframe\">\n",
       "  <thead>\n",
       "    <tr style=\"text-align: right;\">\n",
       "      <th></th>\n",
       "      <th>sepal_length</th>\n",
       "      <th>sepal_width</th>\n",
       "      <th>petal_length</th>\n",
       "      <th>petal_width</th>\n",
       "      <th>species</th>\n",
       "    </tr>\n",
       "  </thead>\n",
       "  <tbody>\n",
       "    <tr>\n",
       "      <th>0</th>\n",
       "      <td>5.1</td>\n",
       "      <td>3.5</td>\n",
       "      <td>1.4</td>\n",
       "      <td>0.2</td>\n",
       "      <td>setosa</td>\n",
       "    </tr>\n",
       "    <tr>\n",
       "      <th>1</th>\n",
       "      <td>4.9</td>\n",
       "      <td>3.0</td>\n",
       "      <td>1.4</td>\n",
       "      <td>0.2</td>\n",
       "      <td>setosa</td>\n",
       "    </tr>\n",
       "    <tr>\n",
       "      <th>2</th>\n",
       "      <td>4.7</td>\n",
       "      <td>3.2</td>\n",
       "      <td>1.3</td>\n",
       "      <td>0.2</td>\n",
       "      <td>setosa</td>\n",
       "    </tr>\n",
       "    <tr>\n",
       "      <th>3</th>\n",
       "      <td>4.6</td>\n",
       "      <td>3.1</td>\n",
       "      <td>1.5</td>\n",
       "      <td>0.2</td>\n",
       "      <td>setosa</td>\n",
       "    </tr>\n",
       "    <tr>\n",
       "      <th>4</th>\n",
       "      <td>5.0</td>\n",
       "      <td>3.6</td>\n",
       "      <td>1.4</td>\n",
       "      <td>0.2</td>\n",
       "      <td>setosa</td>\n",
       "    </tr>\n",
       "  </tbody>\n",
       "</table>\n",
       "</div>"
      ],
      "text/plain": [
       "   sepal_length  sepal_width  petal_length  petal_width species\n",
       "0           5.1          3.5           1.4          0.2  setosa\n",
       "1           4.9          3.0           1.4          0.2  setosa\n",
       "2           4.7          3.2           1.3          0.2  setosa\n",
       "3           4.6          3.1           1.5          0.2  setosa\n",
       "4           5.0          3.6           1.4          0.2  setosa"
      ]
     },
     "execution_count": 2,
     "metadata": {},
     "output_type": "execute_result"
    }
   ],
   "source": [
    "iris = sns.load_dataset(\"iris\")\n",
    "iris.head()"
   ]
  },
  {
   "cell_type": "markdown",
   "metadata": {},
   "source": [
    "Set`X=data.data` and `y=data.target`.  The matrix `X[i,j]` will then be the value of feature `j` in sample `i` and `y[i]` will be the index of the class for sample `i`.  Also, print:\n",
    "* Number of samples,\n",
    "* Number of features per sample\n",
    "* Number of classes"
   ]
  },
  {
   "cell_type": "code",
   "execution_count": 3,
   "metadata": {},
   "outputs": [
    {
     "name": "stdout",
     "output_type": "stream",
     "text": [
      "<class 'pandas.core.frame.DataFrame'>\n",
      "RangeIndex: 150 entries, 0 to 149\n",
      "Data columns (total 5 columns):\n",
      "sepal_length    150 non-null float64\n",
      "sepal_width     150 non-null float64\n",
      "petal_length    150 non-null float64\n",
      "petal_width     150 non-null float64\n",
      "species         150 non-null object\n",
      "dtypes: float64(4), object(1)\n",
      "memory usage: 5.9+ KB\n"
     ]
    }
   ],
   "source": [
    "iris.info()"
   ]
  },
  {
   "cell_type": "code",
   "execution_count": 4,
   "metadata": {},
   "outputs": [
    {
     "data": {
      "text/plain": [
       "array(['setosa', 'versicolor', 'virginica'], dtype=object)"
      ]
     },
     "execution_count": 4,
     "metadata": {},
     "output_type": "execute_result"
    }
   ],
   "source": [
    "iris[\"species\"].unique() "
   ]
  },
  {
   "cell_type": "markdown",
   "metadata": {},
   "source": [
    "Print the feature and target names in `data.feature_names` and `data.target_names`"
   ]
  },
  {
   "cell_type": "code",
   "execution_count": 5,
   "metadata": {},
   "outputs": [
    {
     "name": "stdout",
     "output_type": "stream",
     "text": [
      "['sepal_length', 'sepal_width', 'petal_length', 'petal_width', 'species']\n"
     ]
    }
   ],
   "source": [
    "print(list(iris))"
   ]
  },
  {
   "cell_type": "markdown",
   "metadata": {},
   "source": [
    "To visualize the data, create a *scatter* plot of two of the four features:  `(sepal length, petal length)`.  In a scatter plot, each point is plotted as some marker, say a small circle.  Different colors are used for different class labels.  You can create a scatter plot using the `plt.scatter()` command.  Make sure you label your axes using the `plt.xlabel()` and `plt.ylabel()` axes.\n",
    "\n",
    "If you did the plot correctly, you should see that you can separate the points well even just using two features."
   ]
  },
  {
   "cell_type": "code",
   "execution_count": 6,
   "metadata": {},
   "outputs": [
    {
     "data": {
      "text/plain": [
       "<seaborn.axisgrid.FacetGrid at 0x1a1b9f4f98>"
      ]
     },
     "execution_count": 6,
     "metadata": {},
     "output_type": "execute_result"
    },
    {
     "data": {
      "image/png": "[encoded data removed]",
      "text/plain": [
       "<Figure size 516.75x432 with 1 Axes>"
      ]
     },
     "metadata": {
      "needs_background": "light"
     },
     "output_type": "display_data"
    }
   ],
   "source": [
    "# TODO\n",
    "sns.FacetGrid(iris, hue=\"species\", \n",
    "              height=6).map(plt.scatter,\"sepal_length\", \"petal_length\").add_legend()\n"
   ]
  },
  {
   "cell_type": "markdown",
   "metadata": {},
   "source": [
    "## Classifier Based on a Linear Discriminator\n",
    "\n",
    "Before trying any classification methods, it is necessary to split the data into two components:\n",
    "* Training samples:  Used for fitting the classifier models\n",
    "* Test samples:  Used for testing the classifier\n",
    "\n",
    "We will discuss splitting the training and test data in detail later in the class.  But, the reason for the splitting is that we want to test the classifier on samples not used in training.  This ensures we see how well it works on *new* samples that have not been seen.\n",
    "\n",
    "For this purpose, divide the data into 75 samples `(Xtr,ytr)` for training and 75 samples `(Xts,yts)` for test.  You must randomly shuffle the samples before splitting -- do not pick the first 75 for training.  You can do the splitting manually or use the `sklearn.model_selection.train_test_split` function.  If you use `train_test_split()`, set `shuffle=True`.  "
   ]
  },
  {
   "cell_type": "code",
   "execution_count": 7,
   "metadata": {},
   "outputs": [],
   "source": [
    "from sklearn.model_selection import train_test_split\n",
    "np.random.seed(6) \n",
    "\n",
    "# TODO Split into training and test\n",
    "Xtr, Xts, ytr, yts = train_test_split(iris[[\"sepal_length\", \"petal_length\"]], \n",
    "                                      iris[[\"species\"]], test_size=0.5, shuffle=True)\n",
    "\n",
    "traindf = Xtr.copy()\n",
    "traindf[\"species\"] = ytr\n",
    "\n",
    "testdf = Xts.copy()\n",
    "testdf[\"species\"] = yts"
   ]
  },
  {
   "cell_type": "markdown",
   "metadata": {},
   "source": [
    "We will first try using a linear discriminator.  For linear discriminator we first need to estimate the sample mean of each class.  Complete the following function which returns:\n",
    "\n",
    "    mu[:,j]  = sample mean of X[i,:]  for samples with y[i]=j"
   ]
  },
  {
   "cell_type": "markdown",
   "metadata": {},
   "source": [
    "Run the function on the training data to get the sample means."
   ]
  },
  {
   "cell_type": "code",
   "execution_count": 8,
   "metadata": {},
   "outputs": [
    {
     "data": {
      "text/plain": [
       "[array([[5.02 , 1.456]]), array([[6.036, 4.308]]), array([[6.644, 5.548]])]"
      ]
     },
     "execution_count": 8,
     "metadata": {},
     "output_type": "execute_result"
    }
   ],
   "source": [
    "# TODO\n",
    "mu = np.split(traindf.groupby('species').mean().values,[1,2])\n",
    "mu"
   ]
  },
  {
   "cell_type": "markdown",
   "metadata": {},
   "source": [
    "Assuming a Gaussian model with equal and i.i.d. covariance matrices, the optimal estimator is given by the linear discrimantor:  Given a test sample `x`, we compute:\n",
    "\n",
    "     g[j]  = mu[:,j].dot(x) - 0.5*sum(mu[:,j]**2)\n",
    "     \n",
    "    \n",
    "for each class `j`.  Then, we select `yhat = argmax_j g[j]`.  Complete the following code which takes a matrix of data samples `X` to compute a vector of class predictions `yhat`.  "
   ]
  },
  {
   "cell_type": "code",
   "execution_count": 9,
   "metadata": {},
   "outputs": [],
   "source": [
    "def predict_LDA(X,MU,SIGMA): \n",
    "    LDA_list = []\n",
    "    \n",
    "    def g(X, MU, SIGMA): \n",
    "        return (- 1/2 * (MU).T @ np.linalg.inv(SIGMA)@(MU) \n",
    "                + X.T @ np.linalg.inv(SIGMA)@ (MU)).flatten()[0]   \n",
    "    \n",
    "    for p in range(3):\n",
    "        pred = g(X.reshape(-1,1), MU[p].reshape(-1,1), SIGMA) \n",
    "        LDA_list.append(pred)\n",
    "    \n",
    "    yhat = np.argmax(LDA_list)\n",
    "    return yhat"
   ]
  },
  {
   "cell_type": "markdown",
   "metadata": {},
   "source": [
    "Test the linear classifier on the test data.  Specifically, estimate `yhat` and measure the accuracy, which is the number of samples on which the classifier was correct.  If you did everything correctly, you should get an accuracy of around 90%.  But, it may be a little higher or lower depending on the random training / test split.   "
   ]
  },
  {
   "cell_type": "code",
   "execution_count": 10,
   "metadata": {},
   "outputs": [
    {
     "data": {
      "text/plain": [
       "0.8666666666666667"
      ]
     },
     "metadata": {},
     "output_type": "display_data"
    }
   ],
   "source": [
    "test_y = testdf.iloc[:,2].replace({'setosa':0,'versicolor':1,'virginica':2}).copy()\n",
    "\n",
    "#Classify and compute accuracy accuracy\n",
    "y_hat = np.array([predict_LDA(np.array([xx,yy]).reshape(-1,1), mu, traindf.cov().values) \n",
    "                  for xx, yy in zip(np.ravel(testdf[\"sepal_length\"]), \n",
    "                                    np.ravel(testdf[\"petal_length\"]))] )\n",
    "\n",
    "display(np.mean(y_hat == test_y))"
   ]
  },
  {
   "cell_type": "markdown",
   "metadata": {},
   "source": [
    "## Quadratic Discriminator\n",
    "\n",
    "Now, we will try a more sophisticated classifier.  In this case, we will estimate both the sample mean and covariance matrix.  Complete the following code that computes:\n",
    "\n",
    "* `mu`:  Array where `mu[:,j]` is the sample mean for the samples with `y[i]==j`.  This is identical to the code you have above.\n",
    "* `S`:  Array of covariance matrices where `S[:,:,j]` is the sample covariance matrix for the samples with `y[i]==j`.  You can use the `np.cov()` method."
   ]
  },
  {
   "cell_type": "code",
   "execution_count": 11,
   "metadata": {},
   "outputs": [
    {
     "data": {
      "text/plain": [
       "[array([[0.0309    , 0.01508333],\n",
       "        [0.01508333, 0.125     ]]), array([[0.2541 , 0.20095],\n",
       "        [0.20095, 0.2774 ]]), array([[0.30093333, 0.32238333],\n",
       "        [0.32238333, 0.45756667]])]"
      ]
     },
     "execution_count": 11,
     "metadata": {},
     "output_type": "execute_result"
    }
   ],
   "source": [
    "S = np.split(traindf.groupby('species').cov().values,[2,4], axis = 0)\n",
    "S"
   ]
  },
  {
   "cell_type": "markdown",
   "metadata": {},
   "source": [
    "Given Gaussian models in each class the optimal decision rule is the following *quadratic* decision rule:  Given a sample `x`, we compute the discrimant,\n",
    "\n",
    "\n",
    "    g[j] = 0.5*(x-mu[:,j).T.dot(Sinv[:,:,j]).dot(x-mu[:,j]) + 0.5*log(det(S[:,:,j]))\n",
    "    \n",
    "\n",
    "where `Sinv[:,:,j]` is the matrix inverse of `S[:,:,j]`.  Then, we take `yhat = argmin_j g[j]`.  Complete the following code to  compute the predictions based on the quadratic discriminats."
   ]
  },
  {
   "cell_type": "code",
   "execution_count": 12,
   "metadata": {},
   "outputs": [],
   "source": [
    "def predict_QDA(X, MU, SIGMA): \n",
    "\n",
    "    QDA_list = []\n",
    "    \n",
    "    def g(X, MU, SIGMA): \n",
    "        SIGMA_inv = np.linalg.inv(SIGMA)\n",
    "        return (1/2 * np.log(np.linalg.det(SIGMA_inv)) \n",
    "                + 1/2 * (X - MU).T @ SIGMA_inv @ (X - MU)).flatten()[0]\n",
    "    \n",
    "    for p in range(3):\n",
    "        pred = g(X.reshape(-1,1),MU[p].reshape(-1,1), SIGMA[p]) \n",
    "        QDA_list.append(pred)\n",
    "    \n",
    "    yhat = np.argmin(QDA_list)\n",
    "    return yhat"
   ]
  },
  {
   "cell_type": "markdown",
   "metadata": {},
   "source": [
    "Test the quadratic discriminator on the test data.  You should get around 98% accuracy depending on the train / test split."
   ]
  },
  {
   "cell_type": "code",
   "execution_count": 13,
   "metadata": {},
   "outputs": [
    {
     "data": {
      "text/plain": [
       "0.9733333333333334"
      ]
     },
     "metadata": {},
     "output_type": "display_data"
    }
   ],
   "source": [
    "y_hat = np.array([predict_QDA(np.array([xx,yy]).reshape(-1,1), mu, S) \n",
    "                  for xx, yy in zip(np.ravel(testdf[\"sepal_length\"]), \n",
    "                                    np.ravel(testdf[\"petal_length\"]))])\n",
    "\n",
    "display(np.mean(y_hat == test_y))"
   ]
  }
 ],
 "metadata": {
  "kernelspec": {
   "display_name": "Python 3",
   "language": "python",
   "name": "python3"
  },
  "language_info": {
   "codemirror_mode": {
    "name": "ipython",
    "version": 3
   },
   "file_extension": ".py",
   "mimetype": "text/x-python",
   "name": "python",
   "nbconvert_exporter": "python",
   "pygments_lexer": "ipython3",
   "version": "3.7.1"
  }
 },
 "nbformat": 4,
 "nbformat_minor": 2
}
